{
 "cells": [
  {
   "cell_type": "code",
   "execution_count": 2,
   "id": "07733625",
   "metadata": {},
   "outputs": [],
   "source": [
    "import numpy as np\n",
    "import matplotlib.pyplot as plt\n",
    "import pandas as pd\n",
    "from sklearn.preprocessing import StandardScaler,MinMaxScaler\n",
    "import tensorflow as tf\n",
    "from tensorflow import keras"
   ]
  },
  {
   "cell_type": "code",
   "execution_count": 3,
   "id": "87b63c76",
   "metadata": {},
   "outputs": [
    {
     "data": {
      "text/html": [
       "<div>\n",
       "<style scoped>\n",
       "    .dataframe tbody tr th:only-of-type {\n",
       "        vertical-align: middle;\n",
       "    }\n",
       "\n",
       "    .dataframe tbody tr th {\n",
       "        vertical-align: top;\n",
       "    }\n",
       "\n",
       "    .dataframe thead th {\n",
       "        text-align: right;\n",
       "    }\n",
       "</style>\n",
       "<table border=\"1\" class=\"dataframe\">\n",
       "  <thead>\n",
       "    <tr style=\"text-align: right;\">\n",
       "      <th></th>\n",
       "      <th>Date</th>\n",
       "      <th>Open</th>\n",
       "      <th>High</th>\n",
       "      <th>Low</th>\n",
       "      <th>Close</th>\n",
       "      <th>Adj Close</th>\n",
       "      <th>Volume</th>\n",
       "    </tr>\n",
       "  </thead>\n",
       "  <tbody>\n",
       "    <tr>\n",
       "      <th>6477</th>\n",
       "      <td>2021-09-07</td>\n",
       "      <td>297.350006</td>\n",
       "      <td>297.799988</td>\n",
       "      <td>290.899994</td>\n",
       "      <td>294.600006</td>\n",
       "      <td>294.600006</td>\n",
       "      <td>14325904.0</td>\n",
       "    </tr>\n",
       "    <tr>\n",
       "      <th>6478</th>\n",
       "      <td>2021-09-08</td>\n",
       "      <td>293.500000</td>\n",
       "      <td>298.799988</td>\n",
       "      <td>291.600006</td>\n",
       "      <td>295.250000</td>\n",
       "      <td>295.250000</td>\n",
       "      <td>14920479.0</td>\n",
       "    </tr>\n",
       "    <tr>\n",
       "      <th>6479</th>\n",
       "      <td>2021-09-09</td>\n",
       "      <td>294.000000</td>\n",
       "      <td>303.500000</td>\n",
       "      <td>293.549988</td>\n",
       "      <td>298.950012</td>\n",
       "      <td>298.950012</td>\n",
       "      <td>34020970.0</td>\n",
       "    </tr>\n",
       "    <tr>\n",
       "      <th>6480</th>\n",
       "      <td>2021-09-13</td>\n",
       "      <td>299.000000</td>\n",
       "      <td>302.000000</td>\n",
       "      <td>295.500000</td>\n",
       "      <td>301.200012</td>\n",
       "      <td>301.200012</td>\n",
       "      <td>16339860.0</td>\n",
       "    </tr>\n",
       "    <tr>\n",
       "      <th>6481</th>\n",
       "      <td>2021-09-14</td>\n",
       "      <td>302.250000</td>\n",
       "      <td>307.200012</td>\n",
       "      <td>302.200012</td>\n",
       "      <td>306.100006</td>\n",
       "      <td>306.100006</td>\n",
       "      <td>23234649.0</td>\n",
       "    </tr>\n",
       "  </tbody>\n",
       "</table>\n",
       "</div>"
      ],
      "text/plain": [
       "            Date        Open        High         Low       Close   Adj Close  \\\n",
       "6477  2021-09-07  297.350006  297.799988  290.899994  294.600006  294.600006   \n",
       "6478  2021-09-08  293.500000  298.799988  291.600006  295.250000  295.250000   \n",
       "6479  2021-09-09  294.000000  303.500000  293.549988  298.950012  298.950012   \n",
       "6480  2021-09-13  299.000000  302.000000  295.500000  301.200012  301.200012   \n",
       "6481  2021-09-14  302.250000  307.200012  302.200012  306.100006  306.100006   \n",
       "\n",
       "          Volume  \n",
       "6477  14325904.0  \n",
       "6478  14920479.0  \n",
       "6479  34020970.0  \n",
       "6480  16339860.0  \n",
       "6481  23234649.0  "
      ]
     },
     "execution_count": 3,
     "metadata": {},
     "output_type": "execute_result"
    }
   ],
   "source": [
    "data=pd.read_csv('TATAMOTORS.NS.csv',date_parser=True)\n",
    "data.tail()\n"
   ]
  },
  {
   "cell_type": "code",
   "execution_count": 4,
   "id": "1c59876e",
   "metadata": {},
   "outputs": [],
   "source": [
    "trdata=data[data['Date']<'2021-01-01'].copy()\n",
    "tsdata=data[data['Date']>='2021-01-01'].copy()"
   ]
  },
  {
   "cell_type": "code",
   "execution_count": 5,
   "id": "737300cd",
   "metadata": {},
   "outputs": [
    {
     "name": "stdout",
     "output_type": "stream",
     "text": [
      "Open      0\n",
      "High      0\n",
      "Low       0\n",
      "Close     0\n",
      "Volume    0\n",
      "dtype: int64\n"
     ]
    }
   ],
   "source": [
    "\n",
    "\n",
    "trdata=trdata.drop(['Date','Adj Close'],axis=1)\n",
    "trdata.dropna(axis=0,how='any',inplace=True)\n",
    "print(trdata.isnull().sum())\n",
    "\n"
   ]
  },
  {
   "cell_type": "code",
   "execution_count": null,
   "id": "0547220c",
   "metadata": {},
   "outputs": [],
   "source": []
  },
  {
   "cell_type": "code",
   "execution_count": null,
   "id": "07c8a0dd",
   "metadata": {},
   "outputs": [],
   "source": []
  },
  {
   "cell_type": "code",
   "execution_count": 6,
   "id": "c353f089",
   "metadata": {},
   "outputs": [
    {
     "data": {
      "text/plain": [
       "array([[0.10474505, 0.10296286, 0.10674933, 0.10488202, 0.        ],\n",
       "       [0.10474505, 0.10296286, 0.10674933, 0.10488202, 0.        ],\n",
       "       [0.10474505, 0.10296286, 0.10674933, 0.10488202, 0.        ],\n",
       "       ...,\n",
       "       [0.30009534, 0.29753862, 0.29381225, 0.2933923 , 0.33097816],\n",
       "       [0.2919473 , 0.29240626, 0.29260292, 0.29458507, 0.17902705],\n",
       "       [0.29491795, 0.29594002, 0.29674913, 0.2940739 , 0.22730211]])"
      ]
     },
     "execution_count": 6,
     "metadata": {},
     "output_type": "execute_result"
    }
   ],
   "source": [
    "s=MinMaxScaler()\n",
    "trdata=s.fit_transform(trdata)\n",
    "trdata"
   ]
  },
  {
   "cell_type": "code",
   "execution_count": 7,
   "id": "78169afc",
   "metadata": {},
   "outputs": [],
   "source": [
    "Xtrain=[]\n",
    "Ytrain=[]\n",
    "\n",
    "for i in range(90,trdata.shape[0]):\n",
    "    Xtrain.append(trdata[i-90:i])\n",
    "    Ytrain.append(trdata[i,0])"
   ]
  },
  {
   "cell_type": "code",
   "execution_count": 8,
   "id": "94945786",
   "metadata": {
    "scrolled": true
   },
   "outputs": [],
   "source": [
    "Xtrain = np.array(Xtrain)\n",
    "Ytrain = np.array(Ytrain)"
   ]
  },
  {
   "cell_type": "code",
   "execution_count": 9,
   "id": "32ff783d",
   "metadata": {},
   "outputs": [
    {
     "data": {
      "text/plain": [
       "((6205, 90, 5), (6205,))"
      ]
     },
     "execution_count": 9,
     "metadata": {},
     "output_type": "execute_result"
    }
   ],
   "source": [
    "Xtrain.shape,Ytrain.shape\n"
   ]
  },
  {
   "cell_type": "code",
   "execution_count": 10,
   "id": "3e1a1134",
   "metadata": {},
   "outputs": [],
   "source": [
    "from tensorflow.keras import Sequential\n",
    "from tensorflow.keras.layers import Dense, LSTM , Dropout\n",
    "from keras import optimizers\n",
    "optimizer = tf.keras.optimizers.Adam(clipvalue=0.5)\n",
    "from sklearn.metrics import mean_squared_error"
   ]
  },
  {
   "cell_type": "code",
   "execution_count": 11,
   "id": "7af20b90",
   "metadata": {},
   "outputs": [],
   "source": [
    "reg=Sequential()\n",
    "reg.add(LSTM(units=60,activation='relu',return_sequences= True, input_shape=(Xtrain.shape[1],5)))\n",
    "reg.add(Dropout(0.2))\n",
    "reg.add(LSTM(units=80,activation='relu',return_sequences= True))\n",
    "reg.add(Dropout(0.2))\n",
    "reg.add(LSTM(units=100,activation='relu',return_sequences= True))\n",
    "reg.add(Dropout(0.2))\n",
    "reg.add(LSTM(units=120,activation='relu',return_sequences= True))\n",
    "reg.add(Dropout(0.2))\n",
    "reg.add(LSTM(units=140,activation='relu',return_sequences= True))\n",
    "reg.add(Dropout(0.2))\n",
    "reg.add(LSTM(units=160,activation='relu'))\n",
    "reg.add(Dropout(0.2))\n",
    "reg.add(Dense(units=1))"
   ]
  },
  {
   "cell_type": "code",
   "execution_count": 12,
   "id": "436fb83a",
   "metadata": {},
   "outputs": [
    {
     "name": "stdout",
     "output_type": "stream",
     "text": [
      "Model: \"sequential\"\n",
      "_________________________________________________________________\n",
      "Layer (type)                 Output Shape              Param #   \n",
      "=================================================================\n",
      "lstm (LSTM)                  (None, 90, 60)            15840     \n",
      "_________________________________________________________________\n",
      "dropout (Dropout)            (None, 90, 60)            0         \n",
      "_________________________________________________________________\n",
      "lstm_1 (LSTM)                (None, 90, 80)            45120     \n",
      "_________________________________________________________________\n",
      "dropout_1 (Dropout)          (None, 90, 80)            0         \n",
      "_________________________________________________________________\n",
      "lstm_2 (LSTM)                (None, 90, 100)           72400     \n",
      "_________________________________________________________________\n",
      "dropout_2 (Dropout)          (None, 90, 100)           0         \n",
      "_________________________________________________________________\n",
      "lstm_3 (LSTM)                (None, 90, 120)           106080    \n",
      "_________________________________________________________________\n",
      "dropout_3 (Dropout)          (None, 90, 120)           0         \n",
      "_________________________________________________________________\n",
      "lstm_4 (LSTM)                (None, 90, 140)           146160    \n",
      "_________________________________________________________________\n",
      "dropout_4 (Dropout)          (None, 90, 140)           0         \n",
      "_________________________________________________________________\n",
      "lstm_5 (LSTM)                (None, 160)               192640    \n",
      "_________________________________________________________________\n",
      "dropout_5 (Dropout)          (None, 160)               0         \n",
      "_________________________________________________________________\n",
      "dense (Dense)                (None, 1)                 161       \n",
      "=================================================================\n",
      "Total params: 578,401\n",
      "Trainable params: 578,401\n",
      "Non-trainable params: 0\n",
      "_________________________________________________________________\n"
     ]
    }
   ],
   "source": [
    "reg.summary()"
   ]
  },
  {
   "cell_type": "code",
   "execution_count": 13,
   "id": "bb95fd8f",
   "metadata": {},
   "outputs": [],
   "source": [
    "reg.compile(optimizer=optimizer, loss='mean_squared_error',metrics=['mse'])"
   ]
  },
  {
   "cell_type": "code",
   "execution_count": null,
   "id": "285c96e3",
   "metadata": {},
   "outputs": [],
   "source": [
    "\n",
    "\n"
   ]
  },
  {
   "cell_type": "code",
   "execution_count": 14,
   "id": "583620c2",
   "metadata": {},
   "outputs": [
    {
     "name": "stdout",
     "output_type": "stream",
     "text": [
      "Epoch 1/10\n",
      "173/173 [==============================] - 63s 332ms/step - loss: 0.0202 - mse: 0.0202\n",
      "Epoch 2/10\n",
      "173/173 [==============================] - 60s 345ms/step - loss: 0.0026 - mse: 0.0026\n",
      "Epoch 3/10\n",
      "173/173 [==============================] - 59s 339ms/step - loss: 0.0021 - mse: 0.0021\n",
      "Epoch 4/10\n",
      "173/173 [==============================] - 61s 350ms/step - loss: 0.0020 - mse: 0.0020\n",
      "Epoch 5/10\n",
      "173/173 [==============================] - 64s 369ms/step - loss: 0.0019 - mse: 0.0019\n",
      "Epoch 6/10\n",
      "173/173 [==============================] - 62s 361ms/step - loss: 0.0017 - mse: 0.0017\n",
      "Epoch 7/10\n",
      "173/173 [==============================] - 61s 355ms/step - loss: 0.0016 - mse: 0.0016\n",
      "Epoch 8/10\n",
      "173/173 [==============================] - 63s 364ms/step - loss: 0.0015 - mse: 0.0015\n",
      "Epoch 9/10\n",
      "173/173 [==============================] - 65s 375ms/step - loss: 0.0013 - mse: 0.0013\n",
      "Epoch 10/10\n",
      "173/173 [==============================] - 62s 358ms/step - loss: 0.0012 - mse: 0.0012\n"
     ]
    },
    {
     "data": {
      "text/plain": [
       "<keras.callbacks.History at 0x23acde70e80>"
      ]
     },
     "execution_count": 14,
     "metadata": {},
     "output_type": "execute_result"
    }
   ],
   "source": [
    "reg.fit(Xtrain,Ytrain,epochs=10,batch_size=36)"
   ]
  },
  {
   "cell_type": "code",
   "execution_count": 15,
   "id": "82b71f25",
   "metadata": {},
   "outputs": [
    {
     "data": {
      "text/html": [
       "<div>\n",
       "<style scoped>\n",
       "    .dataframe tbody tr th:only-of-type {\n",
       "        vertical-align: middle;\n",
       "    }\n",
       "\n",
       "    .dataframe tbody tr th {\n",
       "        vertical-align: top;\n",
       "    }\n",
       "\n",
       "    .dataframe thead th {\n",
       "        text-align: right;\n",
       "    }\n",
       "</style>\n",
       "<table border=\"1\" class=\"dataframe\">\n",
       "  <thead>\n",
       "    <tr style=\"text-align: right;\">\n",
       "      <th></th>\n",
       "      <th>Date</th>\n",
       "      <th>Open</th>\n",
       "      <th>High</th>\n",
       "      <th>Low</th>\n",
       "      <th>Close</th>\n",
       "      <th>Adj Close</th>\n",
       "      <th>Volume</th>\n",
       "    </tr>\n",
       "  </thead>\n",
       "  <tbody>\n",
       "    <tr>\n",
       "      <th>6309</th>\n",
       "      <td>2021-01-01</td>\n",
       "      <td>184.949997</td>\n",
       "      <td>187.000000</td>\n",
       "      <td>184.500000</td>\n",
       "      <td>186.500000</td>\n",
       "      <td>186.500000</td>\n",
       "      <td>27334421.0</td>\n",
       "    </tr>\n",
       "    <tr>\n",
       "      <th>6310</th>\n",
       "      <td>2021-01-04</td>\n",
       "      <td>191.800003</td>\n",
       "      <td>193.000000</td>\n",
       "      <td>188.750000</td>\n",
       "      <td>191.300003</td>\n",
       "      <td>191.300003</td>\n",
       "      <td>63980597.0</td>\n",
       "    </tr>\n",
       "    <tr>\n",
       "      <th>6311</th>\n",
       "      <td>2021-01-05</td>\n",
       "      <td>187.100006</td>\n",
       "      <td>193.899994</td>\n",
       "      <td>185.050003</td>\n",
       "      <td>193.199997</td>\n",
       "      <td>193.199997</td>\n",
       "      <td>75752593.0</td>\n",
       "    </tr>\n",
       "    <tr>\n",
       "      <th>6312</th>\n",
       "      <td>2021-01-06</td>\n",
       "      <td>194.449997</td>\n",
       "      <td>197.600006</td>\n",
       "      <td>190.649994</td>\n",
       "      <td>195.399994</td>\n",
       "      <td>195.399994</td>\n",
       "      <td>75621947.0</td>\n",
       "    </tr>\n",
       "    <tr>\n",
       "      <th>6313</th>\n",
       "      <td>2021-01-07</td>\n",
       "      <td>197.000000</td>\n",
       "      <td>200.350006</td>\n",
       "      <td>195.100006</td>\n",
       "      <td>196.750000</td>\n",
       "      <td>196.750000</td>\n",
       "      <td>66024848.0</td>\n",
       "    </tr>\n",
       "  </tbody>\n",
       "</table>\n",
       "</div>"
      ],
      "text/plain": [
       "            Date        Open        High         Low       Close   Adj Close  \\\n",
       "6309  2021-01-01  184.949997  187.000000  184.500000  186.500000  186.500000   \n",
       "6310  2021-01-04  191.800003  193.000000  188.750000  191.300003  191.300003   \n",
       "6311  2021-01-05  187.100006  193.899994  185.050003  193.199997  193.199997   \n",
       "6312  2021-01-06  194.449997  197.600006  190.649994  195.399994  195.399994   \n",
       "6313  2021-01-07  197.000000  200.350006  195.100006  196.750000  196.750000   \n",
       "\n",
       "          Volume  \n",
       "6309  27334421.0  \n",
       "6310  63980597.0  \n",
       "6311  75752593.0  \n",
       "6312  75621947.0  \n",
       "6313  66024848.0  "
      ]
     },
     "execution_count": 15,
     "metadata": {},
     "output_type": "execute_result"
    }
   ],
   "source": [
    "tsdata.head()"
   ]
  },
  {
   "cell_type": "code",
   "execution_count": 16,
   "id": "18d13003",
   "metadata": {},
   "outputs": [],
   "source": [
    "t=tsdata.tail(90)"
   ]
  },
  {
   "cell_type": "code",
   "execution_count": 17,
   "id": "85b22aa7",
   "metadata": {},
   "outputs": [
    {
     "data": {
      "text/html": [
       "<div>\n",
       "<style scoped>\n",
       "    .dataframe tbody tr th:only-of-type {\n",
       "        vertical-align: middle;\n",
       "    }\n",
       "\n",
       "    .dataframe tbody tr th {\n",
       "        vertical-align: top;\n",
       "    }\n",
       "\n",
       "    .dataframe thead th {\n",
       "        text-align: right;\n",
       "    }\n",
       "</style>\n",
       "<table border=\"1\" class=\"dataframe\">\n",
       "  <thead>\n",
       "    <tr style=\"text-align: right;\">\n",
       "      <th></th>\n",
       "      <th>Open</th>\n",
       "      <th>High</th>\n",
       "      <th>Low</th>\n",
       "      <th>Close</th>\n",
       "      <th>Volume</th>\n",
       "    </tr>\n",
       "  </thead>\n",
       "  <tbody>\n",
       "    <tr>\n",
       "      <th>0</th>\n",
       "      <td>291.500000</td>\n",
       "      <td>302.000000</td>\n",
       "      <td>290.299988</td>\n",
       "      <td>301.250000</td>\n",
       "      <td>45032502.0</td>\n",
       "    </tr>\n",
       "    <tr>\n",
       "      <th>1</th>\n",
       "      <td>303.000000</td>\n",
       "      <td>305.950012</td>\n",
       "      <td>300.500000</td>\n",
       "      <td>302.750000</td>\n",
       "      <td>41591323.0</td>\n",
       "    </tr>\n",
       "    <tr>\n",
       "      <th>2</th>\n",
       "      <td>304.500000</td>\n",
       "      <td>315.700012</td>\n",
       "      <td>304.000000</td>\n",
       "      <td>314.850006</td>\n",
       "      <td>53260388.0</td>\n",
       "    </tr>\n",
       "    <tr>\n",
       "      <th>3</th>\n",
       "      <td>309.549988</td>\n",
       "      <td>320.750000</td>\n",
       "      <td>308.100006</td>\n",
       "      <td>315.549988</td>\n",
       "      <td>58472304.0</td>\n",
       "    </tr>\n",
       "    <tr>\n",
       "      <th>4</th>\n",
       "      <td>318.250000</td>\n",
       "      <td>334.750000</td>\n",
       "      <td>316.250000</td>\n",
       "      <td>326.000000</td>\n",
       "      <td>111584920.0</td>\n",
       "    </tr>\n",
       "    <tr>\n",
       "      <th>...</th>\n",
       "      <td>...</td>\n",
       "      <td>...</td>\n",
       "      <td>...</td>\n",
       "      <td>...</td>\n",
       "      <td>...</td>\n",
       "    </tr>\n",
       "    <tr>\n",
       "      <th>258</th>\n",
       "      <td>297.350006</td>\n",
       "      <td>297.799988</td>\n",
       "      <td>290.899994</td>\n",
       "      <td>294.600006</td>\n",
       "      <td>14325904.0</td>\n",
       "    </tr>\n",
       "    <tr>\n",
       "      <th>259</th>\n",
       "      <td>293.500000</td>\n",
       "      <td>298.799988</td>\n",
       "      <td>291.600006</td>\n",
       "      <td>295.250000</td>\n",
       "      <td>14920479.0</td>\n",
       "    </tr>\n",
       "    <tr>\n",
       "      <th>260</th>\n",
       "      <td>294.000000</td>\n",
       "      <td>303.500000</td>\n",
       "      <td>293.549988</td>\n",
       "      <td>298.950012</td>\n",
       "      <td>34020970.0</td>\n",
       "    </tr>\n",
       "    <tr>\n",
       "      <th>261</th>\n",
       "      <td>299.000000</td>\n",
       "      <td>302.000000</td>\n",
       "      <td>295.500000</td>\n",
       "      <td>301.200012</td>\n",
       "      <td>16339860.0</td>\n",
       "    </tr>\n",
       "    <tr>\n",
       "      <th>262</th>\n",
       "      <td>302.250000</td>\n",
       "      <td>307.200012</td>\n",
       "      <td>302.200012</td>\n",
       "      <td>306.100006</td>\n",
       "      <td>23234649.0</td>\n",
       "    </tr>\n",
       "  </tbody>\n",
       "</table>\n",
       "<p>263 rows × 5 columns</p>\n",
       "</div>"
      ],
      "text/plain": [
       "           Open        High         Low       Close       Volume\n",
       "0    291.500000  302.000000  290.299988  301.250000   45032502.0\n",
       "1    303.000000  305.950012  300.500000  302.750000   41591323.0\n",
       "2    304.500000  315.700012  304.000000  314.850006   53260388.0\n",
       "3    309.549988  320.750000  308.100006  315.549988   58472304.0\n",
       "4    318.250000  334.750000  316.250000  326.000000  111584920.0\n",
       "..          ...         ...         ...         ...          ...\n",
       "258  297.350006  297.799988  290.899994  294.600006   14325904.0\n",
       "259  293.500000  298.799988  291.600006  295.250000   14920479.0\n",
       "260  294.000000  303.500000  293.549988  298.950012   34020970.0\n",
       "261  299.000000  302.000000  295.500000  301.200012   16339860.0\n",
       "262  302.250000  307.200012  302.200012  306.100006   23234649.0\n",
       "\n",
       "[263 rows x 5 columns]"
      ]
     },
     "execution_count": 17,
     "metadata": {},
     "output_type": "execute_result"
    }
   ],
   "source": [
    "ts=t.append(tsdata,ignore_index=True)\n",
    "ts=ts.drop(['Adj Close','Date'],axis=1)\n",
    "ts"
   ]
  },
  {
   "cell_type": "code",
   "execution_count": 18,
   "id": "2f1c8bd3",
   "metadata": {},
   "outputs": [],
   "source": [
    "inp=s.transform(ts)"
   ]
  },
  {
   "cell_type": "code",
   "execution_count": 19,
   "id": "59f43c5a",
   "metadata": {},
   "outputs": [],
   "source": [
    "Xtest=[]\n",
    "Ytest=[]\n",
    "for i in range(90,inp.shape[0]):\n",
    "    Xtest.append(inp[i-90:i])\n",
    "    Ytest.append(inp[i,0])"
   ]
  },
  {
   "cell_type": "code",
   "execution_count": 20,
   "id": "209ed82f",
   "metadata": {},
   "outputs": [
    {
     "data": {
      "text/plain": [
       "(173, 90, 5)"
      ]
     },
     "execution_count": 20,
     "metadata": {},
     "output_type": "execute_result"
    }
   ],
   "source": [
    "Xtest = np.array(Xtest)\n",
    "Ytest = np.array(Ytest)\n",
    "Xtest.shape"
   ]
  },
  {
   "cell_type": "code",
   "execution_count": 21,
   "id": "1cc9391b",
   "metadata": {},
   "outputs": [],
   "source": [
    "ypred=reg.predict(Xtest)"
   ]
  },
  {
   "cell_type": "code",
   "execution_count": 22,
   "id": "34774492",
   "metadata": {},
   "outputs": [
    {
     "data": {
      "text/plain": [
       "array([[0.46009967],\n",
       "       [0.46183488],\n",
       "       [0.4620104 ],\n",
       "       [0.45902172],\n",
       "       [0.45176908],\n",
       "       [0.4400216 ],\n",
       "       [0.42419556],\n",
       "       [0.4055998 ],\n",
       "       [0.38742325],\n",
       "       [0.3730354 ],\n",
       "       [0.36451617],\n",
       "       [0.36223218],\n",
       "       [0.36499625],\n",
       "       [0.37126866],\n",
       "       [0.3798631 ],\n",
       "       [0.38993323],\n",
       "       [0.40089923],\n",
       "       [0.41234154],\n",
       "       [0.42383206],\n",
       "       [0.43491444],\n",
       "       [0.445101  ],\n",
       "       [0.45388815],\n",
       "       [0.4610539 ],\n",
       "       [0.46668378],\n",
       "       [0.47108725],\n",
       "       [0.47471228],\n",
       "       [0.4779538 ],\n",
       "       [0.48109657],\n",
       "       [0.48431116],\n",
       "       [0.48766893],\n",
       "       [0.49115476],\n",
       "       [0.49469855],\n",
       "       [0.49818277],\n",
       "       [0.5014748 ],\n",
       "       [0.5044321 ],\n",
       "       [0.50683004],\n",
       "       [0.5083452 ],\n",
       "       [0.5087233 ],\n",
       "       [0.50791687],\n",
       "       [0.50612587],\n",
       "       [0.5036742 ],\n",
       "       [0.5009456 ],\n",
       "       [0.49832222],\n",
       "       [0.4961969 ],\n",
       "       [0.49488774],\n",
       "       [0.49448344],\n",
       "       [0.4948351 ],\n",
       "       [0.49561954],\n",
       "       [0.49647424],\n",
       "       [0.49710497],\n",
       "       [0.49733052],\n",
       "       [0.49711126],\n",
       "       [0.49647698],\n",
       "       [0.49545297],\n",
       "       [0.49400052],\n",
       "       [0.49207377],\n",
       "       [0.48965892],\n",
       "       [0.48680308],\n",
       "       [0.48352247],\n",
       "       [0.47984755],\n",
       "       [0.47589552],\n",
       "       [0.47188726],\n",
       "       [0.4681424 ],\n",
       "       [0.46497837],\n",
       "       [0.46264663],\n",
       "       [0.46129873],\n",
       "       [0.46096805],\n",
       "       [0.46156892],\n",
       "       [0.4628488 ],\n",
       "       [0.4643924 ],\n",
       "       [0.46577767],\n",
       "       [0.46670833],\n",
       "       [0.46703604],\n",
       "       [0.46675116],\n",
       "       [0.46591344],\n",
       "       [0.4646454 ],\n",
       "       [0.46311364],\n",
       "       [0.46152756],\n",
       "       [0.46013758],\n",
       "       [0.45918664],\n",
       "       [0.45880553],\n",
       "       [0.45894024],\n",
       "       [0.45943597],\n",
       "       [0.46009162],\n",
       "       [0.46073648],\n",
       "       [0.4612929 ],\n",
       "       [0.46180525],\n",
       "       [0.46240646],\n",
       "       [0.4632621 ],\n",
       "       [0.46448103],\n",
       "       [0.46610016],\n",
       "       [0.4681189 ],\n",
       "       [0.47040746],\n",
       "       [0.4727387 ],\n",
       "       [0.47488013],\n",
       "       [0.47666857],\n",
       "       [0.4780546 ],\n",
       "       [0.4791011 ],\n",
       "       [0.47994506],\n",
       "       [0.48076358],\n",
       "       [0.48170957],\n",
       "       [0.48288807],\n",
       "       [0.48435172],\n",
       "       [0.4861278 ],\n",
       "       [0.48824215],\n",
       "       [0.49075052],\n",
       "       [0.49373007],\n",
       "       [0.4972203 ],\n",
       "       [0.50118476],\n",
       "       [0.50553757],\n",
       "       [0.51016945],\n",
       "       [0.51496273],\n",
       "       [0.51978666],\n",
       "       [0.52448636],\n",
       "       [0.52883905],\n",
       "       [0.53252167],\n",
       "       [0.5352734 ],\n",
       "       [0.53693074],\n",
       "       [0.53750753],\n",
       "       [0.53717446],\n",
       "       [0.5362255 ],\n",
       "       [0.5350084 ],\n",
       "       [0.5338452 ],\n",
       "       [0.53298914],\n",
       "       [0.53259623],\n",
       "       [0.53274184],\n",
       "       [0.53322774],\n",
       "       [0.5335685 ],\n",
       "       [0.5331277 ],\n",
       "       [0.5313723 ],\n",
       "       [0.52806   ],\n",
       "       [0.52324384],\n",
       "       [0.5173028 ],\n",
       "       [0.5108461 ],\n",
       "       [0.504529  ],\n",
       "       [0.49890152],\n",
       "       [0.4943016 ],\n",
       "       [0.4908451 ],\n",
       "       [0.48842612],\n",
       "       [0.4867546 ],\n",
       "       [0.48548266],\n",
       "       [0.48424622],\n",
       "       [0.4827357 ],\n",
       "       [0.4807836 ],\n",
       "       [0.4784273 ],\n",
       "       [0.47587255],\n",
       "       [0.47340518],\n",
       "       [0.47128394],\n",
       "       [0.46969762],\n",
       "       [0.4687415 ],\n",
       "       [0.4683701 ],\n",
       "       [0.4684673 ],\n",
       "       [0.46890745],\n",
       "       [0.46960726],\n",
       "       [0.47051576],\n",
       "       [0.47155985],\n",
       "       [0.47261485],\n",
       "       [0.47347108],\n",
       "       [0.47386527],\n",
       "       [0.47353727],\n",
       "       [0.4722955 ],\n",
       "       [0.47014838],\n",
       "       [0.46728328],\n",
       "       [0.46403214],\n",
       "       [0.4607664 ],\n",
       "       [0.45783988],\n",
       "       [0.4555343 ],\n",
       "       [0.454031  ],\n",
       "       [0.45341414],\n",
       "       [0.45365015],\n",
       "       [0.45459464],\n",
       "       [0.45608664],\n",
       "       [0.4579644 ]], dtype=float32)"
      ]
     },
     "execution_count": 22,
     "metadata": {},
     "output_type": "execute_result"
    }
   ],
   "source": [
    "ypred"
   ]
  },
  {
   "cell_type": "code",
   "execution_count": 23,
   "id": "36a0c03a",
   "metadata": {},
   "outputs": [
    {
     "data": {
      "text/plain": [
       "array([1.69751181e-03, 1.68273922e-03, 1.72757907e-03, 1.70396498e-03,\n",
       "       4.64087277e-09])"
      ]
     },
     "execution_count": 23,
     "metadata": {},
     "output_type": "execute_result"
    }
   ],
   "source": [
    "s.scale_"
   ]
  },
  {
   "cell_type": "code",
   "execution_count": 24,
   "id": "780de2a4",
   "metadata": {},
   "outputs": [
    {
     "data": {
      "text/plain": [
       "589.0975215070815"
      ]
     },
     "execution_count": 24,
     "metadata": {},
     "output_type": "execute_result"
    }
   ],
   "source": [
    "scale=1/1.69751181e-03\n",
    "scale"
   ]
  },
  {
   "cell_type": "code",
   "execution_count": 25,
   "id": "e724432c",
   "metadata": {},
   "outputs": [],
   "source": [
    "ypred=ypred*scale\n",
    "Ytest=Ytest*scale"
   ]
  },
  {
   "cell_type": "code",
   "execution_count": 26,
   "id": "696f2440",
   "metadata": {},
   "outputs": [
    {
     "data": {
      "text/plain": [
       "Text(0, 0.5, 'P')"
      ]
     },
     "execution_count": 26,
     "metadata": {},
     "output_type": "execute_result"
    },
    {
     "data": {
      "image/png": "[encoded data removed]",
      "text/plain": [
       "<Figure size 1008x360 with 1 Axes>"
      ]
     },
     "metadata": {
      "needs_background": "light"
     },
     "output_type": "display_data"
    }
   ],
   "source": [
    "\n",
    "#Visualization \n",
    "plt.figure(figsize=(14,5))\n",
    "plt.plot(Ytest,color ='red',label=\"Real stock Price\")\n",
    "plt.plot(ypred,color='blue',label=\"Predicted stock Price\")\n",
    "plt.xlabel('Time')\n",
    "plt.ylabel('P')"
   ]
  },
  {
   "cell_type": "code",
   "execution_count": null,
   "id": "f4b433c2",
   "metadata": {},
   "outputs": [],
   "source": []
  }
 ],
 "metadata": {
  "kernelspec": {
   "display_name": "Python 3",
   "language": "python",
   "name": "python3"
  },
  "language_info": {
   "codemirror_mode": {
    "name": "ipython",
    "version": 3
   },
   "file_extension": ".py",
   "mimetype": "text/x-python",
   "name": "python",
   "nbconvert_exporter": "python",
   "pygments_lexer": "ipython3",
   "version": "3.8.8"
  }
 },
 "nbformat": 4,
 "nbformat_minor": 5
}
